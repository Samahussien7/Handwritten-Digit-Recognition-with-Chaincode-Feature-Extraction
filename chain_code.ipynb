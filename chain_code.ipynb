{
  "cells": [
    {
      "cell_type": "markdown",
      "source": [
        "# *Chain code*"
      ],
      "metadata": {
        "id": "O70aQ779lqQS"
      }
    },
    {
      "cell_type": "code",
      "execution_count": null,
      "metadata": {
        "id": "BRyc3qLK__xh"
      },
      "outputs": [],
      "source": [
        "import numpy as np\n",
        "from keras.datasets import mnist\n",
        "import matplotlib.pyplot as plt\n",
        "def get_Boundary(img):\n",
        "  from skimage.measure import find_contours\n",
        "  contours = find_contours(img, 0.5)\n",
        "  binary_contours = np.zeros_like(img, dtype=np.uint8)\n",
        "\n",
        "  for contour in contours:\n",
        "      contour = np.round(contour).astype(int)\n",
        "      binary_contours[contour[:, 0], contour[:, 1]] = 1\n",
        "  return binary_contours\n",
        "\n",
        "def findChainCode(perimeter):\n",
        "    sz = perimeter.shape\n",
        "    chainCodeMap = np.zeros(sz)\n",
        "    sy, sx = np.where(perimeter == 1)\n",
        "    startPt = [sy[0], sx[0]]\n",
        "    currentPt = startPt\n",
        "    #directions = np.array([[1, 0], [1, 1], [0, 1], [-1, 1], [-1, 0], [-1, -1], [0, -1], [1, -1]])\n",
        "    directions = np.array([[0, 1], [-1, 1], [-1, 0], [-1, -1], [0, -1], [1, -1], [1, 0], [1, 1]])\n",
        "    dir = 0\n",
        "    n=0\n",
        "    chainCodeIndex = 0\n",
        "    chainCode = []\n",
        "\n",
        "    while True:\n",
        "        n=n+1\n",
        "        if n>=600:\n",
        "          return np.array(chainCode), chainCodeMap\n",
        "\n",
        "        for i in range(8):\n",
        "            nextPt = currentPt + directions[dir]\n",
        "            validPosn = 0\n",
        "            #print(\"fir\",currentPt)\n",
        "\n",
        "            if (0 < nextPt[0] < sz[0]) and (0 < nextPt[1] < sz[1]):\n",
        "                validPosn = 1\n",
        "\n",
        "            if validPosn and perimeter[nextPt[0], nextPt[1]] == 1:\n",
        "                chainCode.append(dir)\n",
        "                chainCodeMap[currentPt[0], currentPt[1]] = dir\n",
        "                chainCodeIndex += 1\n",
        "                currentPt = nextPt\n",
        "                dir = dir - 3\n",
        "                #print(currentPt)\n",
        "\n",
        "                if dir < 0:\n",
        "                    dir += 8\n",
        "                break\n",
        "            else:\n",
        "                #print(currentPt)\n",
        "                dir = dir + 1\n",
        "\n",
        "                if dir >= 8:\n",
        "                    dir = 0\n",
        "\n",
        "        if np.array_equal(currentPt, startPt):\n",
        "            break\n",
        "\n",
        "    return np.array(chainCode), chainCodeMap\n",
        "\n",
        "def first_difference(chain_code):\n",
        "    # Calculate the first difference of the chain code\n",
        "    first_diff = np.roll(chain_code, -1) - chain_code\n",
        "    first_diff[first_diff <= -1] += 8\n",
        "    # Move the last element to the beginning of the array\n",
        "    first_diff = np.roll(first_diff, 1)\n",
        "\n",
        "    return first_diff\n",
        "\n",
        "def circular_difference(chain_code):\n",
        "    # Calculate the circular difference after a minimum circular shift\n",
        "    min_shift = min(chain_code)\n",
        "    min_shift_index = np.where(chain_code == min_shift)[0][0]\n",
        "    circular_diff = np.roll(chain_code, -min_shift_index)\n",
        "    return circular_diff\n"
      ]
    },
    {
      "cell_type": "markdown",
      "source": [
        "# *Try example*"
      ],
      "metadata": {
        "id": "rBac2qN2lxCJ"
      }
    },
    {
      "cell_type": "code",
      "execution_count": null,
      "metadata": {
        "colab": {
          "base_uri": "https://localhost:8080/",
          "height": 694
        },
        "id": "YlzAaoH1TGgk",
        "outputId": "7acd3743-d4fa-4a5e-cf6a-41f5dba76ba1"
      },
      "outputs": [
        {
          "output_type": "stream",
          "name": "stdout",
          "text": [
            "[[0. 0. 0. 0. 0. 0. 0. 0. 0. 0. 0.]\n",
            " [0. 0. 1. 1. 1. 1. 1. 1. 1. 0. 0.]\n",
            " [0. 1. 0. 0. 0. 0. 0. 0. 0. 1. 0.]\n",
            " [0. 1. 0. 0. 1. 1. 1. 1. 1. 0. 0.]\n",
            " [0. 1. 0. 1. 0. 0. 0. 0. 0. 0. 0.]\n",
            " [0. 1. 0. 0. 1. 1. 1. 1. 0. 0. 0.]\n",
            " [0. 1. 0. 0. 0. 0. 0. 0. 1. 0. 0.]\n",
            " [0. 0. 1. 1. 1. 1. 1. 0. 0. 1. 0.]\n",
            " [0. 0. 0. 0. 0. 0. 0. 1. 0. 1. 0.]\n",
            " [0. 0. 0. 0. 0. 0. 0. 1. 0. 1. 0.]\n",
            " [0. 0. 1. 1. 1. 1. 1. 0. 0. 1. 0.]\n",
            " [0. 1. 0. 0. 0. 0. 0. 0. 1. 0. 0.]\n",
            " [0. 0. 1. 1. 1. 1. 1. 1. 0. 0. 0.]]\n"
          ]
        },
        {
          "output_type": "display_data",
          "data": {
            "text/plain": [
              "<Figure size 640x480 with 2 Axes>"
            ],
            "image/png": "[encoded data removed]"
          },
          "metadata": {}
        },
        {
          "output_type": "stream",
          "name": "stdout",
          "text": [
            "Chain Code: [0 0 0 0 0 0 7 5 4 4 4 4 5 7 0 0 0 7 7 6 6 6 5 5 4 4 4 4 4 3 1 0 0 0 0 1 2\n",
            " 3 4 4 4 4 3 2 2 2 2 1]\n",
            "First Difference: [7 0 0 0 0 0 7 6 7 0 0 0 1 2 1 0 0 7 0 7 0 0 7 0 7 0 0 0 0 7 6 7 0 0 0 1 1\n",
            " 1 1 0 0 0 7 7 0 0 0 7]\n",
            "Circular Difference after minimum circular shift: [0 0 0 0 0 7 6 7 0 0 0 1 2 1 0 0 7 0 7 0 0 7 0 7 0 0 0 0 7 6 7 0 0 0 1 1 1\n",
            " 1 0 0 0 7 7 0 0 0 7 7]\n"
          ]
        }
      ],
      "source": [
        "import numpy as np\n",
        "import matplotlib.pyplot as plt\n",
        "def getImgBoundary(bw_img):\n",
        "    sz = np.shape(bw_img)\n",
        "    boundaryImg = np.zeros(sz)\n",
        "    imgPadded = np.zeros((sz[0] + 2, sz[1] + 2))\n",
        "    imgPadded[1:-1, 1:-1] = bw_img\n",
        "    for i in range(1, sz[0] + 1):\n",
        "        for j in range(1, sz[1] + 1):\n",
        "            if imgPadded[i, j]:\n",
        "                if not imgPadded[i - 1, j] or not imgPadded[i + 1, j] or not imgPadded[i, j - 1] or not imgPadded[\n",
        "                    i, j + 1]:\n",
        "                    boundaryImg[i - 1, j - 1] = 1\n",
        "    return boundaryImg\n",
        "\n",
        "img = np.array([[0, 0, 0, 0, 0, 0, 0, 0, 0, 0, 0],\n",
        "                [0, 0, 1, 1, 1, 1, 1, 1, 1, 0, 0],\n",
        "                [0, 1, 1, 1, 1, 1, 1, 1, 1, 1, 0],\n",
        "                [0, 1, 1, 1, 1, 1, 1, 1, 1, 0, 0],\n",
        "                [0, 1, 1, 1, 0, 0, 0, 0, 0, 0, 0],\n",
        "                [0, 1, 1, 1, 1, 1, 1, 1, 0, 0, 0],\n",
        "                [0, 1, 1, 1, 1, 1, 1, 1, 1, 0, 0],\n",
        "                [0, 0, 1, 1, 1, 1, 1, 1, 1, 1, 0],\n",
        "                [0, 0, 0, 0, 0, 0, 0, 1, 1, 1, 0],\n",
        "                [0, 0, 0, 0, 0, 0, 0, 1, 1, 1, 0],\n",
        "                [0, 0, 1, 1, 1, 1, 1, 1, 1, 1, 0],\n",
        "                [0, 1, 1, 1, 1, 1, 1, 1, 1, 0, 0],\n",
        "                [0, 0, 1, 1, 1, 1, 1, 1, 0, 0, 0]])\n",
        "\n",
        "boundaryImg = getImgBoundary(img)\n",
        "print(boundaryImg)\n",
        "fig, axs = plt.subplots(1, 2)\n",
        "axs[0].imshow(img, cmap='gray')\n",
        "axs[0].set_title('Original image')\n",
        "axs[1].imshow(boundaryImg, cmap='gray')\n",
        "axs[1].set_title('Image boundaries')\n",
        "plt.show()\n",
        "\n",
        "chCode, chMap = findChainCode(boundaryImg)\n",
        "\n",
        "chMap -= 1\n",
        "#chCode = 1  # 0 to 7 instead of 1 to 8\n",
        "\n",
        "# Calculate first difference\n",
        "first_diff = first_difference(chCode)\n",
        "\n",
        "# Calculate circular difference\n",
        "circular_diff = circular_difference(first_diff)\n",
        "\n",
        "print(\"Chain Code:\", chCode)\n",
        "\n",
        "print(\"First Difference:\", first_diff)\n",
        "print(\"Circular Difference after minimum circular shift:\", circular_diff)\n"
      ]
    },
    {
      "cell_type": "markdown",
      "source": [
        "# Working on mnist data"
      ],
      "metadata": {
        "id": "wpt1iQPYl5RR"
      }
    },
    {
      "cell_type": "code",
      "execution_count": null,
      "metadata": {
        "id": "DkqJEeCbYhLH",
        "colab": {
          "base_uri": "https://localhost:8080/"
        },
        "outputId": "4bfef625-3927-4def-eac2-22d1d78fd5a9"
      },
      "outputs": [
        {
          "output_type": "stream",
          "name": "stdout",
          "text": [
            "Downloading data from https://storage.googleapis.com/tensorflow/tf-keras-datasets/mnist.npz\n",
            "11490434/11490434 [==============================] - 0s 0us/step\n"
          ]
        }
      ],
      "source": [
        "import numpy as np\n",
        "from keras.datasets import mnist\n",
        "from sklearn.model_selection import train_test_split\n",
        "from sklearn.svm import SVC\n",
        "from sklearn.metrics import accuracy_score\n",
        "\n",
        "(X_train, y_train), (X_test, y_test) = mnist.load_data()\n",
        "X_train, X_test, y_train, y_test = train_test_split(X_train, y_train, test_size=0.2, random_state=42)\n",
        "\n",
        "img= X_train"
      ]
    },
    {
      "cell_type": "markdown",
      "source": [
        "# *Try sample from mnist*"
      ],
      "metadata": {
        "id": "5Nadp_oDmBJc"
      }
    },
    {
      "cell_type": "code",
      "execution_count": null,
      "metadata": {
        "colab": {
          "base_uri": "https://localhost:8080/",
          "height": 925
        },
        "id": "6kHU2RwLvnew",
        "outputId": "843de867-ebe7-4f91-9725-90cc95092809"
      },
      "outputs": [
        {
          "output_type": "stream",
          "name": "stdout",
          "text": [
            "chain_code [0 0 7 7 6 5 5 4 5 5 5 5 6 5 5 1 0 0 0 7 7 6 6 6 5 6 5 4 5 5 4 4 4 4 4 4 3\n",
            " 3 3 2 2 2 1 2 1 1 1 1 1 2 1 1 1 1 1 1 1]\n",
            "first_diff_ [7 0 7 0 7 7 0 7 1 0 0 0 1 7 0 4 7 0 0 7 0 7 0 0 7 1 7 7 1 0 7 0 0 0 0 0 7\n",
            " 0 0 7 0 0 7 1 7 0 0 0 0 1 7 0 0 0 0 0 0]\n",
            "circular_difference [0 7 0 7 7 0 7 1 0 0 0 1 7 0 4 7 0 0 7 0 7 0 0 7 1 7 7 1 0 7 0 0 0 0 0 7 0\n",
            " 0 7 0 0 7 1 7 0 0 0 0 1 7 0 0 0 0 0 0 7]\n"
          ]
        },
        {
          "output_type": "display_data",
          "data": {
            "text/plain": [
              "<Figure size 640x480 with 2 Axes>"
            ],
            "image/png": "[encoded data removed]"
          },
          "metadata": {}
        },
        {
          "output_type": "stream",
          "name": "stdout",
          "text": [
            "[[0 0 0 0 0 0 0 0 0 0 0 0 0 0 0 0 0 0 0 0 0 0 0 0 0 0 0 0]\n",
            " [0 0 0 0 0 0 0 0 0 0 0 0 0 0 0 0 0 0 0 0 0 0 0 0 0 0 0 0]\n",
            " [0 0 0 0 0 0 0 0 0 0 0 0 0 0 0 0 0 0 0 1 1 1 0 0 0 0 0 0]\n",
            " [0 0 0 0 0 0 0 0 0 0 0 0 0 0 0 0 0 0 1 0 0 0 1 0 0 0 0 0]\n",
            " [0 0 0 0 0 0 0 0 0 0 0 0 0 0 0 0 0 1 0 0 0 0 0 1 0 0 0 0]\n",
            " [0 0 0 0 0 0 0 0 0 0 0 0 0 0 0 0 1 0 0 0 0 0 0 1 0 0 0 0]\n",
            " [0 0 0 0 0 0 0 0 0 0 0 0 0 0 0 1 0 0 0 0 0 0 1 0 0 0 0 0]\n",
            " [0 0 0 0 0 0 0 0 0 0 0 0 0 0 1 0 0 0 0 0 1 1 0 0 0 0 0 0]\n",
            " [0 0 0 0 0 0 0 0 0 0 0 0 0 1 0 0 0 0 0 1 0 0 0 0 0 0 0 0]\n",
            " [0 0 0 0 0 0 0 0 0 0 0 0 1 0 0 0 0 0 1 0 0 0 0 0 0 0 0 0]\n",
            " [0 0 0 0 0 0 0 0 0 0 0 0 1 0 0 0 0 1 0 0 0 0 0 0 0 0 0 0]\n",
            " [0 0 0 0 0 0 0 0 0 0 0 1 0 0 0 0 1 0 0 0 0 0 0 0 0 0 0 0]\n",
            " [0 0 0 0 0 0 0 0 0 0 1 0 0 0 0 0 1 0 0 0 0 0 0 0 0 0 0 0]\n",
            " [0 0 0 0 0 0 0 0 0 1 0 0 0 0 0 1 1 1 1 0 0 0 0 0 0 0 0 0]\n",
            " [0 0 0 0 0 0 0 0 1 0 0 0 0 0 1 0 0 0 0 1 0 0 0 0 0 0 0 0]\n",
            " [0 0 0 0 0 0 0 1 0 0 0 0 0 0 0 0 0 0 0 0 1 0 0 0 0 0 0 0]\n",
            " [0 0 0 0 0 0 0 1 0 0 0 0 0 0 0 0 0 0 0 0 1 0 0 0 0 0 0 0]\n",
            " [0 0 0 0 0 0 1 0 0 0 0 0 0 0 0 0 1 0 0 0 1 0 0 0 0 0 0 0]\n",
            " [0 0 0 0 0 0 1 0 0 0 0 0 0 0 1 0 0 0 0 0 1 0 0 0 0 0 0 0]\n",
            " [0 0 0 0 0 0 1 0 0 0 0 0 0 1 1 0 0 0 0 1 0 0 0 0 0 0 0 0]\n",
            " [0 0 0 0 0 0 1 0 0 0 0 0 0 0 0 0 0 0 0 1 0 0 0 0 0 0 0 0]\n",
            " [0 0 0 0 0 0 0 1 0 0 0 0 0 0 0 0 0 1 1 0 0 0 0 0 0 0 0 0]\n",
            " [0 0 0 0 0 0 0 0 1 0 0 0 0 0 0 0 1 0 0 0 0 0 0 0 0 0 0 0]\n",
            " [0 0 0 0 0 0 0 0 0 1 1 1 1 1 1 1 0 0 0 0 0 0 0 0 0 0 0 0]\n",
            " [0 0 0 0 0 0 0 0 0 0 0 0 0 0 0 0 0 0 0 0 0 0 0 0 0 0 0 0]\n",
            " [0 0 0 0 0 0 0 0 0 0 0 0 0 0 0 0 0 0 0 0 0 0 0 0 0 0 0 0]\n",
            " [0 0 0 0 0 0 0 0 0 0 0 0 0 0 0 0 0 0 0 0 0 0 0 0 0 0 0 0]\n",
            " [0 0 0 0 0 0 0 0 0 0 0 0 0 0 0 0 0 0 0 0 0 0 0 0 0 0 0 0]]\n"
          ]
        }
      ],
      "source": [
        "bound = get_Boundary(X_train[3])\n",
        "chainCode,_ = findChainCode(bound)\n",
        "print(\"chain_code\",chainCode)\n",
        "first_diff_ = first_difference(chainCode)\n",
        "print(\"first_diff_\",first_diff_)\n",
        "print(\"circular_difference\",circular_difference(first_diff_))\n",
        "\n",
        "fig, axs = plt.subplots(1, 2)\n",
        "axs[0].imshow(X_train[3], cmap='gray')\n",
        "axs[0].set_title('Original image')\n",
        "axs[1].imshow(bound, cmap='gray')\n",
        "axs[1].set_title('Image boundaries')\n",
        "plt.show()\n",
        "print(bound)"
      ]
    },
    {
      "cell_type": "code",
      "execution_count": null,
      "metadata": {
        "id": "YJu2YjB_Tx57"
      },
      "outputs": [],
      "source": [
        "def extract_chain_code_features(images):\n",
        "    features = []\n",
        "    for image in images:\n",
        "        bound = get_Boundary(image)\n",
        "        chain_code,_ = findChainCode(bound)\n",
        "        features.append(chain_code)\n",
        "    return features\n",
        "\n",
        "X_train_ = extract_chain_code_features(X_train)\n",
        "X_test_ = extract_chain_code_features(X_test)"
      ]
    },
    {
      "cell_type": "code",
      "execution_count": null,
      "metadata": {
        "id": "3OsIoQOS3jon"
      },
      "outputs": [],
      "source": [
        "max_length = max(len(vec) for vec in X_train_)\n",
        "\n",
        "# Pad or truncate feature vectors to ensure consistent length\n",
        "#train_features = [vec + [0] * (max_length - len(vec)) for vec in X_train]\n",
        "train_features = [np.pad(vec, (0, max_length - len(vec)), mode='constant') for vec in X_train_]\n",
        "# Convert to numpy array\n",
        "train_features = np.array(train_features)\n",
        "\n",
        "#max_length = max(len(vec) for vec in X_test)\n",
        "\n",
        "# Pad or truncate feature vectors to ensure consistent length\n",
        "test_features = [np.pad(vec, (0, max_length - len(vec)), mode='constant') for vec in X_test_]\n",
        "\n",
        "# Convert to numpy array\n",
        "test_features = np.array(test_features)"
      ]
    },
    {
      "cell_type": "markdown",
      "source": [
        "# *KNN*"
      ],
      "metadata": {
        "id": "iJWYC92nmO8a"
      }
    },
    {
      "cell_type": "code",
      "execution_count": null,
      "metadata": {
        "colab": {
          "base_uri": "https://localhost:8080/"
        },
        "id": "qKEt-o4vIylb",
        "outputId": "f35d09e1-7413-4de5-ca9e-c3d9b12eb3dc"
      },
      "outputs": [
        {
          "output_type": "stream",
          "name": "stdout",
          "text": [
            "Training Accuracy: 0.90325\n",
            "Test Accuracy: 0.8679166666666667\n"
          ]
        }
      ],
      "source": [
        "from sklearn.neighbors import KNeighborsClassifier\n",
        "\n",
        "# Create KNN classifier\n",
        "knn = KNeighborsClassifier(n_neighbors=5)\n",
        "\n",
        "# Train the classifier\n",
        "knn.fit(train_features, y_train)\n",
        "\n",
        "# Evaluate the classifier\n",
        "train_accuracy = accuracy_score(y_train, knn.predict(train_features))\n",
        "test_accuracy = accuracy_score(y_test, knn.predict(test_features))\n",
        "\n",
        "print(\"Training Accuracy:\", train_accuracy)\n",
        "print(\"Test Accuracy:\", test_accuracy)"
      ]
    },
    {
      "cell_type": "markdown",
      "source": [
        "# *Random Forest classifier*"
      ],
      "metadata": {
        "id": "ZLGQ5tcNmVmy"
      }
    },
    {
      "cell_type": "code",
      "execution_count": null,
      "metadata": {
        "colab": {
          "base_uri": "https://localhost:8080/"
        },
        "id": "uQh0Muzung_R",
        "outputId": "6a562254-2bfa-434a-b82a-b0cc019ea601"
      },
      "outputs": [
        {
          "output_type": "stream",
          "name": "stdout",
          "text": [
            "Training Accuracy: 0.9947083333333333\n",
            "test Accuracy: 0.9261666666666667\n"
          ]
        }
      ],
      "source": [
        "from sklearn.ensemble import RandomForestClassifier\n",
        "\n",
        "# Create Random Forest classifier\n",
        "classifier = RandomForestClassifier(n_estimators=100)\n",
        "classifier.fit(train_features, y_train)\n",
        "\n",
        "# Evaluate classifier\n",
        "train_accuracy = accuracy_score(y_train, classifier.predict(train_features))\n",
        "test_accuracy = accuracy_score(y_test, classifier.predict(test_features))\n",
        "#test_accuracy = accuracy_score(test_labels, classifier.predict(test_features))\n",
        "\n",
        "print(\"Training Accuracy:\", train_accuracy)\n",
        "print(\"test Accuracy:\", test_accuracy)\n",
        "#print(\"Test Accuracy:\", test_accuracy)"
      ]
    },
    {
      "cell_type": "code",
      "execution_count": null,
      "metadata": {
        "colab": {
          "base_uri": "https://localhost:8080/",
          "height": 452
        },
        "id": "G0wcR0KCnl4n",
        "outputId": "b9e787e5-a59b-467d-e4ce-27e62a6258cf"
      },
      "outputs": [
        {
          "output_type": "display_data",
          "data": {
            "text/plain": [
              "<Figure size 640x480 with 1 Axes>"
            ],
            "image/png": "[encoded data removed]"
          },
          "metadata": {}
        }
      ],
      "source": [
        "train_f=train_features[0].reshape(1, max_length)\n",
        "predicted_class = classifier.predict(train_f)\n",
        "\n",
        "# Display the image and its predicted class\n",
        "plt.imshow(img[0], cmap='gray')  # Assuming grayscale images\n",
        "plt.title(f\"Predicted Class: {predicted_class}\")\n",
        "plt.show()"
      ]
    },
    {
      "cell_type": "code",
      "execution_count": null,
      "metadata": {
        "colab": {
          "base_uri": "https://localhost:8080/",
          "height": 452
        },
        "id": "4GY03HET-u7b",
        "outputId": "cca4bd0e-32e3-4b73-f34b-1a7fb7536a60"
      },
      "outputs": [
        {
          "output_type": "display_data",
          "data": {
            "text/plain": [
              "<Figure size 640x480 with 1 Axes>"
            ],
            "image/png": "[encoded data removed]"
          },
          "metadata": {}
        }
      ],
      "source": [
        "train_f=train_features[1].reshape(1, max_length)\n",
        "predicted_class = classifier.predict(train_f)\n",
        "plt.imshow(img[1], cmap='gray')\n",
        "plt.title(f\"Predicted Class: {predicted_class}\")\n",
        "plt.show()"
      ]
    },
    {
      "cell_type": "code",
      "execution_count": null,
      "metadata": {
        "colab": {
          "base_uri": "https://localhost:8080/",
          "height": 452
        },
        "id": "L-upRszt_Bt0",
        "outputId": "a37888a6-7267-4718-8d1f-2329d7a56637"
      },
      "outputs": [
        {
          "output_type": "display_data",
          "data": {
            "text/plain": [
              "<Figure size 640x480 with 1 Axes>"
            ],
            "image/png": "[encoded data removed]"
          },
          "metadata": {}
        }
      ],
      "source": [
        "train_f=train_features[2].reshape(1, max_length)\n",
        "predicted_class = classifier.predict(train_f)\n",
        "\n",
        "    # Display the image and its predicted class\n",
        "plt.imshow(img[2], cmap='gray')  # Assuming grayscale images\n",
        "plt.title(f\"Predicted Class: {predicted_class}\")\n",
        "plt.show()"
      ]
    },
    {
      "cell_type": "markdown",
      "source": [
        "# KMeans"
      ],
      "metadata": {
        "id": "kvY0nhxjlc3z"
      }
    },
    {
      "cell_type": "code",
      "execution_count": null,
      "metadata": {
        "id": "XvQ0AbV0c1FZ"
      },
      "outputs": [],
      "source": [
        "import numpy as np\n",
        "from sklearn.metrics import accuracy_score\n",
        "\n",
        "# Define k-means function\n",
        "def kmeans(X, k, max_iters=10000):\n",
        "    centroids = X[np.random.choice(X.shape[0], k, replace=False)]\n",
        "\n",
        "    for _ in range(max_iters):\n",
        "        distances = np.sqrt(((X - centroids[:, np.newaxis])**2).sum(axis=2))\n",
        "        labels = np.argmin(distances, axis=0)\n",
        "        new_centroids = np.array([X[labels == i].mean(axis=0) for i in range(k)])\n",
        "        if np.allclose(new_centroids, centroids):\n",
        "            break\n",
        "        centroids = new_centroids\n",
        "    return centroids, labels\n",
        "\n",
        "k = 10\n",
        "centroids, labels = kmeans(train_features, k)"
      ]
    },
    {
      "cell_type": "code",
      "source": [
        "# Assign cluster labels\n",
        "cluster_labels = np.zeros_like(labels)\n",
        "for i in range(k):\n",
        "    mask = (labels == i)\n",
        "    print(y_train)\n",
        "    cluster_labels[mask] = np.bincount(y_train[mask]).argmax()\n",
        "    print(cluster_labels)\n",
        "\n",
        "# Compute accuracy\n",
        "accuracy = accuracy_score(y_train, cluster_labels)\n",
        "print(\"Accuracy:\", accuracy)\n"
      ],
      "metadata": {
        "colab": {
          "base_uri": "https://localhost:8080/"
        },
        "id": "Uq53sUaEdaV5",
        "outputId": "819d372c-6604-47a9-b3a7-70b58da27170"
      },
      "execution_count": null,
      "outputs": [
        {
          "output_type": "stream",
          "name": "stdout",
          "text": [
            "[5 0 1 ... 0 0 4]\n",
            "[0 0 0 ... 0 0 0]\n",
            "[5 0 1 ... 0 0 4]\n",
            "[0 0 0 ... 0 0 0]\n",
            "[5 0 1 ... 0 0 4]\n",
            "[3 0 0 ... 0 0 0]\n",
            "[5 0 1 ... 0 0 4]\n",
            "[3 0 9 ... 9 0 0]\n",
            "[5 0 1 ... 0 0 4]\n",
            "[3 0 9 ... 9 0 1]\n",
            "[5 0 1 ... 0 0 4]\n",
            "[3 0 9 ... 9 0 1]\n",
            "[5 0 1 ... 0 0 4]\n",
            "[3 0 9 ... 9 0 1]\n",
            "[5 0 1 ... 0 0 4]\n",
            "[3 8 9 ... 9 8 1]\n",
            "[5 0 1 ... 0 0 4]\n",
            "[3 8 9 ... 9 8 1]\n",
            "[5 0 1 ... 0 0 4]\n",
            "[3 8 9 ... 9 8 1]\n",
            "Accuracy: 0.40941666666666665\n"
          ]
        }
      ]
    },
    {
      "cell_type": "code",
      "source": [
        "# Compare with sklearn's KMeans\n",
        "from sklearn.cluster import KMeans as sklearn_KMeans\n",
        "\n",
        "kmeans_sklearn = sklearn_KMeans(n_clusters=10, max_iter=10000)\n",
        "kmeans_sklearn.fit(train_features)"
      ],
      "metadata": {
        "id": "fDcLYUHiXYLW",
        "colab": {
          "base_uri": "https://localhost:8080/",
          "height": 131
        },
        "outputId": "c28c5a7f-3a89-4c63-9645-69333cbd5b19"
      },
      "execution_count": null,
      "outputs": [
        {
          "output_type": "stream",
          "name": "stderr",
          "text": [
            "/usr/local/lib/python3.10/dist-packages/sklearn/cluster/_kmeans.py:870: FutureWarning: The default value of `n_init` will change from 10 to 'auto' in 1.4. Set the value of `n_init` explicitly to suppress the warning\n",
            "  warnings.warn(\n"
          ]
        },
        {
          "output_type": "execute_result",
          "data": {
            "text/plain": [
              "KMeans(max_iter=10000, n_clusters=10)"
            ],
            "text/html": [
              "<style>#sk-container-id-2 {color: black;background-color: white;}#sk-container-id-2 pre{padding: 0;}#sk-container-id-2 div.sk-toggleable {background-color: white;}#sk-container-id-2 label.sk-toggleable__label {cursor: pointer;display: block;width: 100%;margin-bottom: 0;padding: 0.3em;box-sizing: border-box;text-align: center;}#sk-container-id-2 label.sk-toggleable__label-arrow:before {content: \"▸\";float: left;margin-right: 0.25em;color: #696969;}#sk-container-id-2 label.sk-toggleable__label-arrow:hover:before {color: black;}#sk-container-id-2 div.sk-estimator:hover label.sk-toggleable__label-arrow:before {color: black;}#sk-container-id-2 div.sk-toggleable__content {max-height: 0;max-width: 0;overflow: hidden;text-align: left;background-color: #f0f8ff;}#sk-container-id-2 div.sk-toggleable__content pre {margin: 0.2em;color: black;border-radius: 0.25em;background-color: #f0f8ff;}#sk-container-id-2 input.sk-toggleable__control:checked~div.sk-toggleable__content {max-height: 200px;max-width: 100%;overflow: auto;}#sk-container-id-2 input.sk-toggleable__control:checked~label.sk-toggleable__label-arrow:before {content: \"▾\";}#sk-container-id-2 div.sk-estimator input.sk-toggleable__control:checked~label.sk-toggleable__label {background-color: #d4ebff;}#sk-container-id-2 div.sk-label input.sk-toggleable__control:checked~label.sk-toggleable__label {background-color: #d4ebff;}#sk-container-id-2 input.sk-hidden--visually {border: 0;clip: rect(1px 1px 1px 1px);clip: rect(1px, 1px, 1px, 1px);height: 1px;margin: -1px;overflow: hidden;padding: 0;position: absolute;width: 1px;}#sk-container-id-2 div.sk-estimator {font-family: monospace;background-color: #f0f8ff;border: 1px dotted black;border-radius: 0.25em;box-sizing: border-box;margin-bottom: 0.5em;}#sk-container-id-2 div.sk-estimator:hover {background-color: #d4ebff;}#sk-container-id-2 div.sk-parallel-item::after {content: \"\";width: 100%;border-bottom: 1px solid gray;flex-grow: 1;}#sk-container-id-2 div.sk-label:hover label.sk-toggleable__label {background-color: #d4ebff;}#sk-container-id-2 div.sk-serial::before {content: \"\";position: absolute;border-left: 1px solid gray;box-sizing: border-box;top: 0;bottom: 0;left: 50%;z-index: 0;}#sk-container-id-2 div.sk-serial {display: flex;flex-direction: column;align-items: center;background-color: white;padding-right: 0.2em;padding-left: 0.2em;position: relative;}#sk-container-id-2 div.sk-item {position: relative;z-index: 1;}#sk-container-id-2 div.sk-parallel {display: flex;align-items: stretch;justify-content: center;background-color: white;position: relative;}#sk-container-id-2 div.sk-item::before, #sk-container-id-2 div.sk-parallel-item::before {content: \"\";position: absolute;border-left: 1px solid gray;box-sizing: border-box;top: 0;bottom: 0;left: 50%;z-index: -1;}#sk-container-id-2 div.sk-parallel-item {display: flex;flex-direction: column;z-index: 1;position: relative;background-color: white;}#sk-container-id-2 div.sk-parallel-item:first-child::after {align-self: flex-end;width: 50%;}#sk-container-id-2 div.sk-parallel-item:last-child::after {align-self: flex-start;width: 50%;}#sk-container-id-2 div.sk-parallel-item:only-child::after {width: 0;}#sk-container-id-2 div.sk-dashed-wrapped {border: 1px dashed gray;margin: 0 0.4em 0.5em 0.4em;box-sizing: border-box;padding-bottom: 0.4em;background-color: white;}#sk-container-id-2 div.sk-label label {font-family: monospace;font-weight: bold;display: inline-block;line-height: 1.2em;}#sk-container-id-2 div.sk-label-container {text-align: center;}#sk-container-id-2 div.sk-container {/* jupyter's `normalize.less` sets `[hidden] { display: none; }` but bootstrap.min.css set `[hidden] { display: none !important; }` so we also need the `!important` here to be able to override the default hidden behavior on the sphinx rendered scikit-learn.org. See: https://github.com/scikit-learn/scikit-learn/issues/21755 */display: inline-block !important;position: relative;}#sk-container-id-2 div.sk-text-repr-fallback {display: none;}</style><div id=\"sk-container-id-2\" class=\"sk-top-container\"><div class=\"sk-text-repr-fallback\"><pre>KMeans(max_iter=10000, n_clusters=10)</pre><b>In a Jupyter environment, please rerun this cell to show the HTML representation or trust the notebook. <br />On GitHub, the HTML representation is unable to render, please try loading this page with nbviewer.org.</b></div><div class=\"sk-container\" hidden><div class=\"sk-item\"><div class=\"sk-estimator sk-toggleable\"><input class=\"sk-toggleable__control sk-hidden--visually\" id=\"sk-estimator-id-2\" type=\"checkbox\" checked><label for=\"sk-estimator-id-2\" class=\"sk-toggleable__label sk-toggleable__label-arrow\">KMeans</label><div class=\"sk-toggleable__content\"><pre>KMeans(max_iter=10000, n_clusters=10)</pre></div></div></div></div></div>"
            ]
          },
          "metadata": {},
          "execution_count": 57
        }
      ]
    },
    {
      "cell_type": "code",
      "source": [
        "labels_sklearn = kmeans_sklearn.predict(train_features)"
      ],
      "metadata": {
        "id": "SIKAWMSxXcir"
      },
      "execution_count": null,
      "outputs": []
    },
    {
      "cell_type": "code",
      "source": [
        "accuracy = accuracy_score(y_train, labels_sklearn)\n",
        "print(\"Accuracy:\", accuracy)"
      ],
      "metadata": {
        "colab": {
          "base_uri": "https://localhost:8080/"
        },
        "id": "Lr6Gqr9KhyZL",
        "outputId": "9285fad6-ef8c-4a33-de5f-d31224df48c3"
      },
      "execution_count": null,
      "outputs": [
        {
          "output_type": "stream",
          "name": "stdout",
          "text": [
            "Accuracy: 0.16204166666666667\n"
          ]
        }
      ]
    },
    {
      "cell_type": "code",
      "source": [
        "# Assign cluster labels\n",
        "cluster_labels = np.zeros_like(labels_sklearn)\n",
        "for i in range(k):\n",
        "    mask = (labels_sklearn == i)\n",
        "    print(y_train)\n",
        "    cluster_labels[mask] = np.bincount(y_train[mask]).argmax()\n",
        "    print(cluster_labels)\n",
        "\n",
        "# Compute accuracy\n",
        "accuracy = accuracy_score(y_train, cluster_labels)\n",
        "print(\"Accuracy:\", accuracy)"
      ],
      "metadata": {
        "colab": {
          "base_uri": "https://localhost:8080/"
        },
        "id": "Timyv_L6XmbJ",
        "outputId": "e0a6613d-a0f1-4aa9-9007-c68dc2efdf4d"
      },
      "execution_count": null,
      "outputs": [
        {
          "output_type": "stream",
          "name": "stdout",
          "text": [
            "[5 0 1 ... 0 0 4]\n",
            "[0 0 0 ... 0 0 0]\n",
            "[5 0 1 ... 0 0 4]\n",
            "[0 0 0 ... 0 0 1]\n",
            "[5 0 1 ... 0 0 4]\n",
            "[0 8 0 ... 0 8 1]\n",
            "[5 0 1 ... 0 0 4]\n",
            "[0 8 0 ... 0 8 1]\n",
            "[5 0 1 ... 0 0 4]\n",
            "[0 8 0 ... 0 8 1]\n",
            "[5 0 1 ... 0 0 4]\n",
            "[3 8 0 ... 0 8 1]\n",
            "[5 0 1 ... 0 0 4]\n",
            "[3 8 0 ... 0 8 1]\n",
            "[5 0 1 ... 0 0 4]\n",
            "[3 8 9 ... 9 8 1]\n",
            "[5 0 1 ... 0 0 4]\n",
            "[3 8 9 ... 9 8 1]\n",
            "[5 0 1 ... 0 0 4]\n",
            "[3 8 9 ... 9 8 1]\n",
            "Accuracy: 0.39791666666666664\n"
          ]
        }
      ]
    },
    {
      "cell_type": "code",
      "source": [
        "import numpy as np\n",
        "from sklearn.metrics import accuracy_score\n",
        "\n",
        "# Define k-means function\n",
        "def kmeans(X, k, max_iters=60000):\n",
        "    centroids = X[np.random.choice(X.shape[0], k, replace=False)]\n",
        "\n",
        "    for _ in range(max_iters):\n",
        "        distances = np.sqrt(((X - centroids[:, np.newaxis])**2).sum(axis=2))\n",
        "        labels = np.argmin(distances, axis=0)\n",
        "        new_centroids = np.array([X[labels == i].mean(axis=0) for i in range(k)])\n",
        "        if np.allclose(new_centroids, centroids):\n",
        "            break\n",
        "        centroids = new_centroids\n",
        "\n",
        "    return centroids, labels\n",
        "\n",
        "k = 10\n",
        "\n",
        "# Run K-means algorithm\n",
        "centroids, labels = kmeans(test_features, k)"
      ],
      "metadata": {
        "id": "DbqYUui0h7Pp"
      },
      "execution_count": null,
      "outputs": []
    },
    {
      "cell_type": "code",
      "source": [
        "# Assign cluster labels\n",
        "cluster_labels = np.zeros_like(labels)\n",
        "for i in range(k):\n",
        "    mask = (labels == i)\n",
        "    print(y_test)\n",
        "    cluster_labels[mask] = np.bincount(y_test[mask]).argmax()\n",
        "    print(cluster_labels)\n",
        "\n",
        "# Compute accuracy\n",
        "accuracy = accuracy_score(y_test, cluster_labels)\n",
        "print(\"Accuracy:\", accuracy)\n"
      ],
      "metadata": {
        "colab": {
          "base_uri": "https://localhost:8080/"
        },
        "id": "3GDYgig1j0v2",
        "outputId": "3ea704db-ba39-4cf0-e91d-8d3e08ec2082"
      },
      "execution_count": null,
      "outputs": [
        {
          "output_type": "stream",
          "name": "stdout",
          "text": [
            "[7 3 8 ... 9 7 2]\n",
            "[0 0 0 ... 0 0 0]\n",
            "[7 3 8 ... 9 7 2]\n",
            "[0 0 0 ... 0 0 0]\n",
            "[7 3 8 ... 9 7 2]\n",
            "[7 0 0 ... 0 7 0]\n",
            "[7 3 8 ... 9 7 2]\n",
            "[7 0 0 ... 0 7 0]\n",
            "[7 3 8 ... 9 7 2]\n",
            "[7 0 0 ... 0 7 0]\n",
            "[7 3 8 ... 9 7 2]\n",
            "[7 3 0 ... 0 7 3]\n",
            "[7 3 8 ... 9 7 2]\n",
            "[7 3 0 ... 0 7 3]\n",
            "[7 3 8 ... 9 7 2]\n",
            "[7 3 0 ... 0 7 3]\n",
            "[7 3 8 ... 9 7 2]\n",
            "[7 3 1 ... 0 7 3]\n",
            "[7 3 8 ... 9 7 2]\n",
            "[7 3 1 ... 9 7 3]\n",
            "Accuracy: 0.449\n"
          ]
        }
      ]
    }
  ],
  "metadata": {
    "accelerator": "GPU",
    "colab": {
      "gpuType": "T4",
      "provenance": []
    },
    "kernelspec": {
      "display_name": "Python 3",
      "name": "python3"
    },
    "language_info": {
      "name": "python"
    }
  },
  "nbformat": 4,
  "nbformat_minor": 0
}